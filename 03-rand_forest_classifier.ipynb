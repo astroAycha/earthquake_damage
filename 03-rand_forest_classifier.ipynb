{
 "cells": [
  {
   "cell_type": "code",
   "execution_count": 1,
   "id": "b3169850",
   "metadata": {},
   "outputs": [
    {
     "name": "stderr",
     "output_type": "stream",
     "text": [
      "/home/codespace/anaconda3/lib/python3.9/site-packages/pandas/core/computation/expressions.py:21: UserWarning: Pandas requires version '2.8.4' or newer of 'numexpr' (version '2.8.1' currently installed).\n",
      "  from pandas.core.computation.check import NUMEXPR_INSTALLED\n",
      "/home/codespace/anaconda3/lib/python3.9/site-packages/pandas/core/arrays/masked.py:60: UserWarning: Pandas requires version '1.3.6' or newer of 'bottleneck' (version '1.3.4' currently installed).\n",
      "  from pandas.core import (\n"
     ]
    }
   ],
   "source": [
    "import pandas as pd\n",
    "import numpy as np\n",
    "import optuna\n",
    "\n",
    "\n",
    "import sklearn.metrics\n",
    "from sklearn.model_selection import train_test_split\n",
    "from sklearn.preprocessing import LabelEncoder\n",
    "from sklearn.ensemble import RandomForestClassifier\n",
    "\n",
    "\n",
    "import matplotlib.pylab as plt\n",
    "import seaborn as sns"
   ]
  },
  {
   "cell_type": "code",
   "execution_count": 2,
   "id": "c8b5c684",
   "metadata": {},
   "outputs": [
    {
     "name": "stderr",
     "output_type": "stream",
     "text": [
      "[I 2024-06-20 22:52:21,613] A new study created in memory with name: no-name-3f96471d-90f1-4b76-87fe-0d982032e157\n",
      "[I 2024-06-20 22:54:09,698] Trial 0 finished with value: 0.7116325473417624 and parameters: {'n_estimators': 368, 'max_depth': 22}. Best is trial 0 with value: 0.7116325473417624.\n",
      "[I 2024-06-20 22:55:38,694] Trial 1 finished with value: 0.7281518006177932 and parameters: {'n_estimators': 251, 'max_depth': 33}. Best is trial 1 with value: 0.7281518006177932.\n",
      "[I 2024-06-20 22:56:41,825] Trial 2 finished with value: 0.6874964026016385 and parameters: {'n_estimators': 289, 'max_depth': 15}. Best is trial 1 with value: 0.7281518006177932.\n",
      "[I 2024-06-20 22:57:23,657] Trial 3 finished with value: 0.7234895723412829 and parameters: {'n_estimators': 111, 'max_depth': 37}. Best is trial 1 with value: 0.7281518006177932.\n",
      "[I 2024-06-20 22:58:01,996] Trial 4 finished with value: 0.7236430613380403 and parameters: {'n_estimators': 101, 'max_depth': 46}. Best is trial 1 with value: 0.7281518006177932.\n",
      "[I 2024-06-20 22:58:48,416] Trial 5 finished with value: 0.6842923197943247 and parameters: {'n_estimators': 206, 'max_depth': 15}. Best is trial 1 with value: 0.7281518006177932.\n",
      "[I 2024-06-20 22:59:50,316] Trial 6 finished with value: 0.6946720132000537 and parameters: {'n_estimators': 255, 'max_depth': 17}. Best is trial 1 with value: 0.7281518006177932.\n",
      "[I 2024-06-20 23:00:24,986] Trial 7 finished with value: 0.5765238579459335 and parameters: {'n_estimators': 385, 'max_depth': 5}. Best is trial 1 with value: 0.7281518006177932.\n",
      "[I 2024-06-20 23:01:07,257] Trial 8 finished with value: 0.6779225264288866 and parameters: {'n_estimators': 202, 'max_depth': 14}. Best is trial 1 with value: 0.7281518006177932.\n",
      "[I 2024-06-20 23:02:20,993] Trial 9 finished with value: 0.7273267972602214 and parameters: {'n_estimators': 195, 'max_depth': 48}. Best is trial 1 with value: 0.7281518006177932.\n",
      "[I 2024-06-20 23:04:14,165] Trial 10 finished with value: 0.7270198192667063 and parameters: {'n_estimators': 313, 'max_depth': 33}. Best is trial 1 with value: 0.7281518006177932.\n"
     ]
    },
    {
     "name": "stdout",
     "output_type": "stream",
     "text": [
      "Number of finished trials:  11\n",
      "Best trial:\n",
      "  Value: 0.7281518006177932\n",
      "  Params: \n",
      "    n_estimators: 251\n",
      "    max_depth: 33\n"
     ]
    }
   ],
   "source": [
    "def objective(trial):\n",
    "#     (data, target) = sklearn.datasets.load_breast_cancer(return_X_y=True)\n",
    "\n",
    "    values_df = pd.read_csv('./data/train_values.csv')\n",
    "    labels_df = pd.read_csv('./data/train_labels.csv')\n",
    "    data = pd.merge(values_df, labels_df, on='building_id')\n",
    "    \n",
    "    # initialize a label encoder\n",
    "    label_encoder = LabelEncoder()\n",
    "    #encode categorical columns\n",
    "    cat_cols = data.select_dtypes('object').columns\n",
    "    for col in cat_cols:\n",
    "        data[col] = label_encoder.fit_transform(data[col])\n",
    "    \n",
    "    # separate features as X and target as y\n",
    "    X = data.drop('damage_grade', axis=1)\n",
    "    data['damage_grade_'] = [x-1 for x in data['damage_grade']]\n",
    "    y = data['damage_grade_']\n",
    "    \n",
    "    train_x, valid_x, train_y, valid_y = train_test_split(X, y, test_size=0.2)\n",
    "\n",
    "\n",
    "    param = {\n",
    "        \"n_estimators\": trial.suggest_int(\"n_estimators\", 100, 400),\n",
    "        \"max_depth\": trial.suggest_int(\"max_depth\", 5, 50),\n",
    "#         \"min_samples_split\": trial.suggest_int(\"min_samples_split\", 10, 50),\n",
    "#         \"min_samples_leaf\": trial.suggest_int(\"min_samples_leaf\", 10, 50)\n",
    "        \n",
    "    }\n",
    "\n",
    "\n",
    "    rf = RandomForestClassifier(**param)\n",
    "    rf.fit(train_x, train_y)\n",
    "    \n",
    "    preds = rf.predict(valid_x)\n",
    "    \n",
    "    fscore = sklearn.metrics.f1_score(valid_y, preds, average='micro')\n",
    "    \n",
    "    return fscore\n",
    "\n",
    "\n",
    "if __name__ == \"__main__\":\n",
    "    study = optuna.create_study(direction=\"maximize\")\n",
    "    study.optimize(objective, n_trials=30, timeout=600)\n",
    "\n",
    "    print(\"Number of finished trials: \", len(study.trials))\n",
    "    print(\"Best trial:\")\n",
    "    trial = study.best_trial\n",
    "\n",
    "    print(\"  Value: {}\".format(trial.value))\n",
    "    print(\"  Params: \")\n",
    "    for key, value in trial.params.items():\n",
    "        print(\"    {}: {}\".format(key, value))"
   ]
  },
  {
   "cell_type": "code",
   "execution_count": 3,
   "id": "63a8f13a",
   "metadata": {},
   "outputs": [],
   "source": [
    "best_params = study.best_params"
   ]
  },
  {
   "cell_type": "code",
   "execution_count": 4,
   "id": "d2c803ca",
   "metadata": {},
   "outputs": [
    {
     "name": "stdout",
     "output_type": "stream",
     "text": [
      "{'n_estimators': 251, 'max_depth': 33}\n"
     ]
    }
   ],
   "source": [
    "print(best_params)"
   ]
  },
  {
   "cell_type": "code",
   "execution_count": 5,
   "id": "b9adff8e",
   "metadata": {},
   "outputs": [
    {
     "name": "stdout",
     "output_type": "stream",
     "text": [
      "0.7271733082634638\n"
     ]
    }
   ],
   "source": [
    "values_df = pd.read_csv('./data/train_values.csv')\n",
    "labels_df = pd.read_csv('./data/train_labels.csv')\n",
    "data = pd.merge(values_df, labels_df, on='building_id')\n",
    "\n",
    "# initialize a label encoder\n",
    "label_encoder = LabelEncoder()\n",
    "#encode categorical columns\n",
    "cat_cols = data.select_dtypes('object').columns\n",
    "for col in cat_cols:\n",
    "    data[col] = label_encoder.fit_transform(data[col])\n",
    "\n",
    "# separate features as X and target as y\n",
    "X = data.drop('damage_grade', axis=1)\n",
    "data['damage_grade_'] = [x-1 for x in data['damage_grade']]\n",
    "y = data['damage_grade_']\n",
    "\n",
    "train_x, valid_x, train_y, valid_y = train_test_split(X, y, test_size=0.2)\n",
    "\n",
    "\n",
    "param = best_params\n",
    "\n",
    "\n",
    "rf = RandomForestClassifier(**best_params)\n",
    "rf.fit(train_x, train_y)\n",
    "\n",
    "preds = rf.predict(valid_x)\n",
    "\n",
    "fscore = sklearn.metrics.f1_score(valid_y, preds, average='micro')\n",
    "\n",
    "print(fscore)"
   ]
  },
  {
   "cell_type": "code",
   "execution_count": null,
   "id": "aace8c22",
   "metadata": {},
   "outputs": [],
   "source": []
  }
 ],
 "metadata": {
  "kernelspec": {
   "display_name": "Python 3 (ipykernel)",
   "language": "python",
   "name": "python3"
  },
  "language_info": {
   "codemirror_mode": {
    "name": "ipython",
    "version": 3
   },
   "file_extension": ".py",
   "mimetype": "text/x-python",
   "name": "python",
   "nbconvert_exporter": "python",
   "pygments_lexer": "ipython3",
   "version": "3.9.12"
  }
 },
 "nbformat": 4,
 "nbformat_minor": 5
}
